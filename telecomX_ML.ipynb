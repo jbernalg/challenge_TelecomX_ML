{
 "cells": [
  {
   "cell_type": "markdown",
   "id": "2813f985",
   "metadata": {},
   "source": [
    "# __TelecomX - Parte 2: Modelo de prediccion de cancelaciones__"
   ]
  },
  {
   "cell_type": "markdown",
   "id": "68770e41",
   "metadata": {},
   "source": [
    "# Objetivos"
   ]
  },
  {
   "cell_type": "markdown",
   "id": "bdf50fff",
   "metadata": {},
   "source": [
    "- Preparar los datos para el modelado (tratamiento, codificación, normalización).\n",
    "\n",
    "- Realizar análisis de correlación y selección de variables.\n",
    "\n",
    "- Entrenar dos o más modelos de clasificación.\n",
    "\n",
    "- Evaluar el rendimiento de los modelos con métricas.\n",
    "\n",
    "- Interpretar los resultados, incluyendo la importancia de las variables.\n",
    "\n",
    "- Crear una conclusión estratégica señalando los principales factores que influyen en la cancelación."
   ]
  },
  {
   "cell_type": "markdown",
   "id": "67df4d48",
   "metadata": {},
   "source": [
    "# Entregables"
   ]
  },
  {
   "cell_type": "markdown",
   "id": "114134cf",
   "metadata": {},
   "source": [
    "- Analisis completo de los datos.\n",
    "\n",
    "- Exportar modelo final.\n",
    "\n",
    "- Informe con los hallazgos y recomendaciones."
   ]
  },
  {
   "cell_type": "markdown",
   "id": "d8fc38a8",
   "metadata": {},
   "source": [
    "# Preparacion de los datos"
   ]
  },
  {
   "cell_type": "markdown",
   "id": "1e3084ac",
   "metadata": {},
   "source": [
    "## Carga y exploracion"
   ]
  },
  {
   "cell_type": "code",
   "execution_count": 1,
   "id": "c7531cfb",
   "metadata": {},
   "outputs": [],
   "source": [
    "# libreria\n",
    "import pandas as pd"
   ]
  },
  {
   "cell_type": "code",
   "execution_count": 2,
   "id": "693ebeff",
   "metadata": {},
   "outputs": [
    {
     "data": {
      "text/html": [
       "<div>\n",
       "<style scoped>\n",
       "    .dataframe tbody tr th:only-of-type {\n",
       "        vertical-align: middle;\n",
       "    }\n",
       "\n",
       "    .dataframe tbody tr th {\n",
       "        vertical-align: top;\n",
       "    }\n",
       "\n",
       "    .dataframe thead th {\n",
       "        text-align: right;\n",
       "    }\n",
       "</style>\n",
       "<table border=\"1\" class=\"dataframe\">\n",
       "  <thead>\n",
       "    <tr style=\"text-align: right;\">\n",
       "      <th></th>\n",
       "      <th>cancelacion</th>\n",
       "      <th>genero</th>\n",
       "      <th>jubilado</th>\n",
       "      <th>en_pareja</th>\n",
       "      <th>dependientes</th>\n",
       "      <th>meses_contrato</th>\n",
       "      <th>servicio_telefonico</th>\n",
       "      <th>multiples_lineas</th>\n",
       "      <th>servicio_internet</th>\n",
       "      <th>seguridad_online</th>\n",
       "      <th>...</th>\n",
       "      <th>proteccion_dispositivo</th>\n",
       "      <th>soporte_efectivo</th>\n",
       "      <th>streaming_TV</th>\n",
       "      <th>streaming_peliculas</th>\n",
       "      <th>tipo_contrato</th>\n",
       "      <th>facturacion_electronica</th>\n",
       "      <th>metodo_pago</th>\n",
       "      <th>cuenta_mensual</th>\n",
       "      <th>cuentas_total</th>\n",
       "      <th>cuentas_diarias</th>\n",
       "    </tr>\n",
       "  </thead>\n",
       "  <tbody>\n",
       "    <tr>\n",
       "      <th>0</th>\n",
       "      <td>0</td>\n",
       "      <td>Femenino</td>\n",
       "      <td>No</td>\n",
       "      <td>Si</td>\n",
       "      <td>Si</td>\n",
       "      <td>9</td>\n",
       "      <td>Si</td>\n",
       "      <td>No</td>\n",
       "      <td>DSL</td>\n",
       "      <td>No</td>\n",
       "      <td>...</td>\n",
       "      <td>No</td>\n",
       "      <td>Si</td>\n",
       "      <td>Si</td>\n",
       "      <td>No</td>\n",
       "      <td>un year</td>\n",
       "      <td>Si</td>\n",
       "      <td>cheque por correo</td>\n",
       "      <td>65.6</td>\n",
       "      <td>593.30</td>\n",
       "      <td>0.242963</td>\n",
       "    </tr>\n",
       "    <tr>\n",
       "      <th>1</th>\n",
       "      <td>0</td>\n",
       "      <td>Masculino</td>\n",
       "      <td>No</td>\n",
       "      <td>No</td>\n",
       "      <td>No</td>\n",
       "      <td>9</td>\n",
       "      <td>Si</td>\n",
       "      <td>Si</td>\n",
       "      <td>DSL</td>\n",
       "      <td>No</td>\n",
       "      <td>...</td>\n",
       "      <td>No</td>\n",
       "      <td>No</td>\n",
       "      <td>No</td>\n",
       "      <td>Si</td>\n",
       "      <td>mes a mes</td>\n",
       "      <td>No</td>\n",
       "      <td>cheque por correo</td>\n",
       "      <td>59.9</td>\n",
       "      <td>542.40</td>\n",
       "      <td>0.221852</td>\n",
       "    </tr>\n",
       "    <tr>\n",
       "      <th>2</th>\n",
       "      <td>1</td>\n",
       "      <td>Masculino</td>\n",
       "      <td>No</td>\n",
       "      <td>No</td>\n",
       "      <td>No</td>\n",
       "      <td>4</td>\n",
       "      <td>Si</td>\n",
       "      <td>No</td>\n",
       "      <td>Fibra_optica</td>\n",
       "      <td>No</td>\n",
       "      <td>...</td>\n",
       "      <td>Si</td>\n",
       "      <td>No</td>\n",
       "      <td>No</td>\n",
       "      <td>No</td>\n",
       "      <td>mes a mes</td>\n",
       "      <td>Si</td>\n",
       "      <td>cheque electronico</td>\n",
       "      <td>73.9</td>\n",
       "      <td>280.85</td>\n",
       "      <td>0.615833</td>\n",
       "    </tr>\n",
       "    <tr>\n",
       "      <th>3</th>\n",
       "      <td>1</td>\n",
       "      <td>Masculino</td>\n",
       "      <td>Si</td>\n",
       "      <td>Si</td>\n",
       "      <td>No</td>\n",
       "      <td>13</td>\n",
       "      <td>Si</td>\n",
       "      <td>No</td>\n",
       "      <td>Fibra_optica</td>\n",
       "      <td>No</td>\n",
       "      <td>...</td>\n",
       "      <td>Si</td>\n",
       "      <td>No</td>\n",
       "      <td>Si</td>\n",
       "      <td>Si</td>\n",
       "      <td>mes a mes</td>\n",
       "      <td>Si</td>\n",
       "      <td>cheque electronico</td>\n",
       "      <td>98.0</td>\n",
       "      <td>1237.85</td>\n",
       "      <td>0.251282</td>\n",
       "    </tr>\n",
       "    <tr>\n",
       "      <th>4</th>\n",
       "      <td>1</td>\n",
       "      <td>Femenino</td>\n",
       "      <td>Si</td>\n",
       "      <td>Si</td>\n",
       "      <td>No</td>\n",
       "      <td>3</td>\n",
       "      <td>Si</td>\n",
       "      <td>No</td>\n",
       "      <td>Fibra_optica</td>\n",
       "      <td>No</td>\n",
       "      <td>...</td>\n",
       "      <td>No</td>\n",
       "      <td>Si</td>\n",
       "      <td>Si</td>\n",
       "      <td>No</td>\n",
       "      <td>mes a mes</td>\n",
       "      <td>Si</td>\n",
       "      <td>cheque por correo</td>\n",
       "      <td>83.9</td>\n",
       "      <td>267.40</td>\n",
       "      <td>0.932222</td>\n",
       "    </tr>\n",
       "  </tbody>\n",
       "</table>\n",
       "<p>5 rows × 21 columns</p>\n",
       "</div>"
      ],
      "text/plain": [
       "   cancelacion     genero jubilado en_pareja dependientes  meses_contrato  \\\n",
       "0            0   Femenino       No        Si           Si               9   \n",
       "1            0  Masculino       No        No           No               9   \n",
       "2            1  Masculino       No        No           No               4   \n",
       "3            1  Masculino       Si        Si           No              13   \n",
       "4            1   Femenino       Si        Si           No               3   \n",
       "\n",
       "  servicio_telefonico multiples_lineas servicio_internet seguridad_online  \\\n",
       "0                  Si               No               DSL               No   \n",
       "1                  Si               Si               DSL               No   \n",
       "2                  Si               No      Fibra_optica               No   \n",
       "3                  Si               No      Fibra_optica               No   \n",
       "4                  Si               No      Fibra_optica               No   \n",
       "\n",
       "   ... proteccion_dispositivo soporte_efectivo streaming_TV  \\\n",
       "0  ...                     No               Si           Si   \n",
       "1  ...                     No               No           No   \n",
       "2  ...                     Si               No           No   \n",
       "3  ...                     Si               No           Si   \n",
       "4  ...                     No               Si           Si   \n",
       "\n",
       "  streaming_peliculas tipo_contrato facturacion_electronica  \\\n",
       "0                  No       un year                      Si   \n",
       "1                  Si     mes a mes                      No   \n",
       "2                  No     mes a mes                      Si   \n",
       "3                  Si     mes a mes                      Si   \n",
       "4                  No     mes a mes                      Si   \n",
       "\n",
       "          metodo_pago cuenta_mensual  cuentas_total  cuentas_diarias  \n",
       "0   cheque por correo           65.6         593.30         0.242963  \n",
       "1   cheque por correo           59.9         542.40         0.221852  \n",
       "2  cheque electronico           73.9         280.85         0.615833  \n",
       "3  cheque electronico           98.0        1237.85         0.251282  \n",
       "4   cheque por correo           83.9         267.40         0.932222  \n",
       "\n",
       "[5 rows x 21 columns]"
      ]
     },
     "execution_count": 2,
     "metadata": {},
     "output_type": "execute_result"
    }
   ],
   "source": [
    "# cargar datos previamente tratados desde github\n",
    "data = pd.read_csv('https://raw.githubusercontent.com/jbernalg/challenge_TelecomX/refs/heads/main/data_out/datos_tratados.csv', sep=',')\n",
    "data.head()"
   ]
  },
  {
   "cell_type": "code",
   "execution_count": 3,
   "id": "a9048368",
   "metadata": {},
   "outputs": [
    {
     "name": "stdout",
     "output_type": "stream",
     "text": [
      "<class 'pandas.core.frame.DataFrame'>\n",
      "RangeIndex: 7032 entries, 0 to 7031\n",
      "Data columns (total 21 columns):\n",
      " #   Column                   Non-Null Count  Dtype  \n",
      "---  ------                   --------------  -----  \n",
      " 0   cancelacion              7032 non-null   int64  \n",
      " 1   genero                   7032 non-null   object \n",
      " 2   jubilado                 7032 non-null   object \n",
      " 3   en_pareja                7032 non-null   object \n",
      " 4   dependientes             7032 non-null   object \n",
      " 5   meses_contrato           7032 non-null   int64  \n",
      " 6   servicio_telefonico      7032 non-null   object \n",
      " 7   multiples_lineas         7032 non-null   object \n",
      " 8   servicio_internet        7032 non-null   object \n",
      " 9   seguridad_online         7032 non-null   object \n",
      " 10  respaldo_online          7032 non-null   object \n",
      " 11  proteccion_dispositivo   7032 non-null   object \n",
      " 12  soporte_efectivo         7032 non-null   object \n",
      " 13  streaming_TV             7032 non-null   object \n",
      " 14  streaming_peliculas      7032 non-null   object \n",
      " 15  tipo_contrato            7032 non-null   object \n",
      " 16  facturacion_electronica  7032 non-null   object \n",
      " 17  metodo_pago              7032 non-null   object \n",
      " 18  cuenta_mensual           7032 non-null   float64\n",
      " 19  cuentas_total            7032 non-null   float64\n",
      " 20  cuentas_diarias          7032 non-null   float64\n",
      "dtypes: float64(3), int64(2), object(16)\n",
      "memory usage: 1.1+ MB\n"
     ]
    }
   ],
   "source": [
    "# informacion de cada variable\n",
    "data.info()"
   ]
  },
  {
   "cell_type": "code",
   "execution_count": 5,
   "id": "3ad61c0d",
   "metadata": {},
   "outputs": [
    {
     "data": {
      "text/plain": [
       "cancelacion\n",
       "0    73.421502\n",
       "1    26.578498\n",
       "Name: proportion, dtype: float64"
      ]
     },
     "execution_count": 5,
     "metadata": {},
     "output_type": "execute_result"
    }
   ],
   "source": [
    "# distribucion de cancelacion\n",
    "data['cancelacion'].value_counts(normalize=True)*100"
   ]
  },
  {
   "cell_type": "markdown",
   "id": "425f85a1",
   "metadata": {},
   "source": [
    "La proporcion de la variable objetivo es la siguiente:\n",
    "\n",
    "> 73.42% de los clientes se mantienen en la empresa\n",
    "\n",
    "> 26.57% de los clientes abandonan la empresa\n",
    "\n",
    "> Se evidencia un desequilibrio entre los clientes que permanecen y abandonan la empresa. Debe ser tratado."
   ]
  },
  {
   "cell_type": "markdown",
   "id": "e582b167",
   "metadata": {},
   "source": [
    "## Limpiar los datos"
   ]
  }
 ],
 "metadata": {
  "kernelspec": {
   "display_name": "data_env",
   "language": "python",
   "name": "python3"
  },
  "language_info": {
   "codemirror_mode": {
    "name": "ipython",
    "version": 3
   },
   "file_extension": ".py",
   "mimetype": "text/x-python",
   "name": "python",
   "nbconvert_exporter": "python",
   "pygments_lexer": "ipython3",
   "version": "3.10.18"
  }
 },
 "nbformat": 4,
 "nbformat_minor": 5
}
