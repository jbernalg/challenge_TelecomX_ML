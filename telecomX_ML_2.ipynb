{
 "cells": [
  {
   "cell_type": "markdown",
   "id": "0099256c",
   "metadata": {},
   "source": [
    "# __TelecomX - Parte 2: Modelos de prediccion__"
   ]
  },
  {
   "cell_type": "markdown",
   "id": "72c85918",
   "metadata": {},
   "source": [
    "## __Objetivo__"
   ]
  },
  {
   "cell_type": "markdown",
   "id": "3dcdfa41",
   "metadata": {},
   "source": [
    "La empresa busca anticiparse al problema de cancelacion de clientes, por lo que vamos a construir un pipeline robusto para la etapa inicial del modelado cuyas tareas son lo siguiente:\n",
    "\n",
    "- Preparar los datos (limpieza, codificacion y normalizacion).\n",
    "- Realizar analisis de correlacion y seleccion de variables.\n",
    "- Entrenar diferentes modelos de clasificacion, evaluar el rendimiento a traves de distintas metricas e interpretar los resultados de cada uno.\n",
    "- Crear un reporte con algunas recomendaciones sobre los principales factores que influyen en la cancelacion de clientes."
   ]
  },
  {
   "cell_type": "markdown",
   "id": "5798eefc",
   "metadata": {},
   "source": [
    "## __Importar Librerias__"
   ]
  },
  {
   "cell_type": "code",
   "execution_count": 3,
   "id": "1bb0c2f7",
   "metadata": {},
   "outputs": [],
   "source": [
    "import numpy as np\n",
    "import pandas as pd\n",
    "\n",
    "import matplotlib\n",
    "import matplotlib.pyplot as plt\n",
    "import seaborn as sns\n",
    "from matplotlib.colors import LinearSegmentedColormap\n",
    "\n",
    "import warnings\n",
    "#import requests\n",
    "import pickle\n",
    "\n",
    "from timeit import default_timer as timer\n",
    "from datetime import datetime\n",
    "\n",
    "import imblearn\n",
    "from imblearn.under_sampling import NearMiss\n",
    "from imblearn.over_sampling import SMOTENC\n",
    "\n",
    "import sklearn\n",
    "from sklearn.model_selection import train_test_split\n",
    "from sklearn.model_selection import StratifiedKFold, cross_validate, GridSearchCV\n",
    "from sklearn.metrics import accuracy_score, precision_score, recall_score, f1_score, classification_report\n",
    "from sklearn.metrics import confusion_matrix, ConfusionMatrixDisplay, roc_auc_score, RocCurveDisplay, precision_recall_curve\n",
    "from sklearn.preprocessing import OneHotEncoder, LabelEncoder, MinMaxScaler, StandardScaler, RobustScaler\n",
    "from sklearn.compose import make_column_transformer\n",
    "from sklearn.tree import DecisionTreeClassifier\n",
    "from sklearn.ensemble import RandomForestClassifier\n",
    "from sklearn.linear_model import LogisticRegression\n",
    "from sklearn.neighbors import KNeighborsClassifier as knn\n",
    "from sklearn.svm import SVC\n",
    "from sklearn.inspection import permutation_importance\n",
    "\n",
    "import xgboost\n",
    "from xgboost import XGBClassifier"
   ]
  }
 ],
 "metadata": {
  "kernelspec": {
   "display_name": "data_env",
   "language": "python",
   "name": "python3"
  },
  "language_info": {
   "codemirror_mode": {
    "name": "ipython",
    "version": 3
   },
   "file_extension": ".py",
   "mimetype": "text/x-python",
   "name": "python",
   "nbconvert_exporter": "python",
   "pygments_lexer": "ipython3",
   "version": "3.10.18"
  }
 },
 "nbformat": 4,
 "nbformat_minor": 5
}
